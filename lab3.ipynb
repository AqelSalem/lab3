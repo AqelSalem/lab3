{
 "cells": [
  {
   "cell_type": "code",
   "execution_count": 1,
   "metadata": {},
   "outputs": [
    {
     "name": "stdout",
     "output_type": "stream",
     "text": [
      "welcome\n",
      "my favorite # is  7\n"
     ]
    }
   ],
   "source": [
    "def conform(fav):\n",
    "    fav= 42\n",
    "    return fav\n",
    "\n",
    "if __name__==\"__main__\":\n",
    "    print('welcome')\n",
    "    fav= 7\n",
    "    conform(fav)\n",
    "    print(\"my favorite # is \",fav)"
   ]
  },
  {
   "cell_type": "code",
   "execution_count": 5,
   "metadata": {},
   "outputs": [
    {
     "name": "stdout",
     "output_type": "stream",
     "text": [
      "inside the function {'A': 28, 'B': 25, 'C': 32, 'D': 25, 'E': 30, 'F': 25}\n",
      "outside the function {'A': 28, 'B': 25, 'C': 32, 'D': 25, 'E': 30, 'F': 25}\n"
     ]
    }
   ],
   "source": [
    "student={'A':28,'B':25,'C':32,'D':25}\n",
    "def test(student):\n",
    "    new={'E':30,'F':25}\n",
    "    student.update(new)\n",
    "    print(\"inside the function\", student)\n",
    "    return\n",
    "test(student)\n",
    "print(\"outside the function\",student)"
   ]
  },
  {
   "cell_type": "code",
   "execution_count": 8,
   "metadata": {},
   "outputs": [
    {
     "name": "stdout",
     "output_type": "stream",
     "text": [
      "Aqel\n"
     ]
    }
   ],
   "source": [
    "class student:\n",
    "    \n",
    "    def __init__(self, name):\n",
    "        self.name=name\n",
    "        self.course_list=[]\n",
    "std=student(\"Aqel\")\n",
    "print(std.name)"
   ]
  },
  {
   "cell_type": "code",
   "execution_count": 9,
   "metadata": {},
   "outputs": [
    {
     "name": "stdout",
     "output_type": "stream",
     "text": [
      "['python']\n"
     ]
    }
   ],
   "source": [
    "class student:\n",
    "    \n",
    "    def __init__(self, name):\n",
    "        self.name=name\n",
    "        self.course_list=[]\n",
    "    def add(self, new_course):\n",
    "        self.course_list.append(new_course)\n",
    "        \n",
    "std=student(\"Aqel\")\n",
    "std.add(\"python\")\n",
    "print(std.course_list)"
   ]
  },
  {
   "cell_type": "code",
   "execution_count": 10,
   "metadata": {},
   "outputs": [
    {
     "name": "stdout",
     "output_type": "stream",
     "text": [
      "SalemAqel\n",
      "['Aqel']\n"
     ]
    }
   ],
   "source": [
    "class student:\n",
    "    \n",
    "    def __init__(self, name):\n",
    "        self.name=name\n",
    "        self.course_list=[]\n",
    "    def add(self, new_course):\n",
    "        self.course_list.append(new_course)\n",
    "        \n",
    "std=student(\"Aqel\")\n",
    "txt = input(\"Salem\")\n",
    "std.add(txt)\n",
    "print(std.course_list)"
   ]
  },
  {
   "cell_type": "code",
   "execution_count": 15,
   "metadata": {},
   "outputs": [
    {
     "name": "stdout",
     "output_type": "stream",
     "text": [
      "Aqel Salem\n"
     ]
    }
   ],
   "source": [
    "class person:\n",
    "    def __init__(self,fname, lname):\n",
    "        self.firstname = fname\n",
    "        self.lastname = lname\n",
    "        \n",
    "    def printname(self):\n",
    "        print(self.firstname, self.lastname)\n",
    "\n",
    "class professor(person):\n",
    "    pass\n",
    "mhd = professor(\"Aqel\", \"Salem\")\n",
    "mhd.printname()"
   ]
  },
  {
   "cell_type": "code",
   "execution_count": null,
   "metadata": {},
   "outputs": [],
   "source": []
  }
 ],
 "metadata": {
  "kernelspec": {
   "display_name": "Python 3",
   "language": "python",
   "name": "python3"
  },
  "language_info": {
   "codemirror_mode": {
    "name": "ipython",
    "version": 3
   },
   "file_extension": ".py",
   "mimetype": "text/x-python",
   "name": "python",
   "nbconvert_exporter": "python",
   "pygments_lexer": "ipython3",
   "version": "3.8.5"
  }
 },
 "nbformat": 4,
 "nbformat_minor": 4
}
